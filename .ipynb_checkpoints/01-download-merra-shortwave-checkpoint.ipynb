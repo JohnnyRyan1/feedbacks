{
 "cells": [
  {
   "cell_type": "code",
   "execution_count": 46,
   "id": "8950e9c4-396b-4191-8007-dc95b33615d5",
   "metadata": {},
   "outputs": [],
   "source": [
    "\"\"\"\n",
    "\n",
    "1. Download MERRA2 data at daily interval\n",
    "\n",
    "2. Save as NetCDF4\n",
    "    - Downward shortwave radiation (allsky) \n",
    "    - Downward shortwave radiation (clearsky)\n",
    "\n",
    "\"\"\"\n",
    "\n",
    "# Import libraries\n",
    "import glob\n",
    "import os\n",
    "from datetime import datetime\n",
    "import numpy as np\n",
    "import xarray as xr\n",
    "import pandas as pd\n",
    "import netCDF4\n",
    "import matplotlib.pyplot as plt\n",
    "\n",
    "# Define user\n",
    "user = 'johnnyryan'\n",
    "\n",
    "# Define base path\n",
    "path = '/Users/' + user + '/Dropbox (University of Oregon)/research/feedbacks/'\n",
    "\n",
    "# Define path to links\n",
    "links = pd.read_csv(path + 'data/links/subset_M2T1NXRAD_5.12.4_20231217_213425_.txt', \n",
    "                    skiprows=1, sep='\\t', header=None)"
   ]
  },
  {
   "cell_type": "code",
   "execution_count": 47,
   "id": "b69cb87a",
   "metadata": {},
   "outputs": [],
   "source": [
    "links.rename(columns={0: \"link\"}, inplace=True)\n",
    "links['year'] = links['link'].str[119:123]\n",
    "links['month'] = links['link'].str[162:164].astype(int)\n",
    "\n",
    "# Define years\n",
    "years = np.arange(2000, 2023)\n",
    "\n",
    "# Filter June\n",
    "links_summer = links[(links['month'] > 5) & (links['month'] < 9)]"
   ]
  },
  {
   "cell_type": "code",
   "execution_count": 48,
   "id": "5ecde3ed-968a-4d34-b8cd-d3978e1819ee",
   "metadata": {},
   "outputs": [
    {
     "ename": "NameError",
     "evalue": "name 'swd' is not defined",
     "output_type": "error",
     "traceback": [
      "\u001b[0;31m---------------------------------------------------------------------------\u001b[0m",
      "\u001b[0;31mNameError\u001b[0m                                 Traceback (most recent call last)",
      "Cell \u001b[0;32mIn[48], line 43\u001b[0m\n\u001b[1;32m     38\u001b[0m     t\u001b[38;5;241m.\u001b[39mappend(merra[\u001b[38;5;124m'\u001b[39m\u001b[38;5;124mtime\u001b[39m\u001b[38;5;124m'\u001b[39m]\u001b[38;5;241m.\u001b[39mvalues[\u001b[38;5;241m0\u001b[39m]\u001b[38;5;241m.\u001b[39mastype(\u001b[38;5;124m'\u001b[39m\u001b[38;5;124mdatetime64[D]\u001b[39m\u001b[38;5;124m'\u001b[39m))\n\u001b[1;32m     40\u001b[0m \u001b[38;5;66;03m# Save as NetCDF\u001b[39;00m\n\u001b[1;32m     41\u001b[0m ds_data \u001b[38;5;241m=\u001b[39m xr\u001b[38;5;241m.\u001b[39mDataset(\n\u001b[1;32m     42\u001b[0m data_vars\u001b[38;5;241m=\u001b[39m{\n\u001b[0;32m---> 43\u001b[0m     \u001b[38;5;124m\"\u001b[39m\u001b[38;5;124mswd_allsky\u001b[39m\u001b[38;5;124m\"\u001b[39m: ((\u001b[38;5;124m\"\u001b[39m\u001b[38;5;124mtime\u001b[39m\u001b[38;5;124m\"\u001b[39m, \u001b[38;5;124m\"\u001b[39m\u001b[38;5;124mlat\u001b[39m\u001b[38;5;124m\"\u001b[39m, \u001b[38;5;124m\"\u001b[39m\u001b[38;5;124mlon\u001b[39m\u001b[38;5;124m\"\u001b[39m), np\u001b[38;5;241m.\u001b[39marray(swd)\u001b[38;5;241m.\u001b[39mastype(\u001b[38;5;124m'\u001b[39m\u001b[38;5;124mfloat32\u001b[39m\u001b[38;5;124m'\u001b[39m)),\n\u001b[1;32m     44\u001b[0m     \u001b[38;5;124m\"\u001b[39m\u001b[38;5;124mswd_clrsky\u001b[39m\u001b[38;5;124m\"\u001b[39m: ((\u001b[38;5;124m\"\u001b[39m\u001b[38;5;124mtime\u001b[39m\u001b[38;5;124m\"\u001b[39m, \u001b[38;5;124m\"\u001b[39m\u001b[38;5;124mlat\u001b[39m\u001b[38;5;124m\"\u001b[39m, \u001b[38;5;124m\"\u001b[39m\u001b[38;5;124mlon\u001b[39m\u001b[38;5;124m\"\u001b[39m), np\u001b[38;5;241m.\u001b[39marray(swd_clrsky)\u001b[38;5;241m.\u001b[39mastype(\u001b[38;5;124m'\u001b[39m\u001b[38;5;124mfloat32\u001b[39m\u001b[38;5;124m'\u001b[39m)),\n\u001b[1;32m     45\u001b[0m },\n\u001b[1;32m     46\u001b[0m \n\u001b[1;32m     47\u001b[0m coords\u001b[38;5;241m=\u001b[39m{\n\u001b[1;32m     48\u001b[0m     \u001b[38;5;124m\"\u001b[39m\u001b[38;5;124mtime\u001b[39m\u001b[38;5;124m\"\u001b[39m: pd\u001b[38;5;241m.\u001b[39mDatetimeIndex(np\u001b[38;5;241m.\u001b[39marray(t), freq\u001b[38;5;241m=\u001b[39m\u001b[38;5;124m'\u001b[39m\u001b[38;5;124mD\u001b[39m\u001b[38;5;124m'\u001b[39m),\n\u001b[1;32m     49\u001b[0m     \u001b[38;5;124m\"\u001b[39m\u001b[38;5;124mlongitude\u001b[39m\u001b[38;5;124m\"\u001b[39m: ((\u001b[38;5;124m'\u001b[39m\u001b[38;5;124mlon\u001b[39m\u001b[38;5;124m'\u001b[39m,), merra[\u001b[38;5;124m'\u001b[39m\u001b[38;5;124mlon\u001b[39m\u001b[38;5;124m'\u001b[39m]\u001b[38;5;241m.\u001b[39mvalues),\n\u001b[1;32m     50\u001b[0m     \u001b[38;5;124m\"\u001b[39m\u001b[38;5;124mlatitude\u001b[39m\u001b[38;5;124m\"\u001b[39m: ((\u001b[38;5;124m'\u001b[39m\u001b[38;5;124mlat\u001b[39m\u001b[38;5;124m'\u001b[39m,), merra[\u001b[38;5;124m'\u001b[39m\u001b[38;5;124mlat\u001b[39m\u001b[38;5;124m'\u001b[39m]\u001b[38;5;241m.\u001b[39mvalues),    \n\u001b[1;32m     51\u001b[0m },\n\u001b[1;32m     52\u001b[0m \n\u001b[1;32m     53\u001b[0m attrs\u001b[38;5;241m=\u001b[39m{\n\u001b[1;32m     54\u001b[0m     \u001b[38;5;124m\"\u001b[39m\u001b[38;5;124mProduced\u001b[39m\u001b[38;5;124m\"\u001b[39m: datetime\u001b[38;5;241m.\u001b[39mnow()\u001b[38;5;241m.\u001b[39mstrftime(\u001b[38;5;124m\"\u001b[39m\u001b[38;5;124m%\u001b[39m\u001b[38;5;124mY-\u001b[39m\u001b[38;5;124m%\u001b[39m\u001b[38;5;124mm-\u001b[39m\u001b[38;5;132;01m%d\u001b[39;00m\u001b[38;5;124m \u001b[39m\u001b[38;5;124m%\u001b[39m\u001b[38;5;124mH:\u001b[39m\u001b[38;5;124m%\u001b[39m\u001b[38;5;124mM:\u001b[39m\u001b[38;5;124m%\u001b[39m\u001b[38;5;124mS\u001b[39m\u001b[38;5;124m\"\u001b[39m),\n\u001b[1;32m     55\u001b[0m     \u001b[38;5;124m\"\u001b[39m\u001b[38;5;124mUnits\u001b[39m\u001b[38;5;124m\"\u001b[39m: \u001b[38;5;124m'\u001b[39m\u001b[38;5;124mWm-2\u001b[39m\u001b[38;5;124m'\u001b[39m,\n\u001b[1;32m     56\u001b[0m     \u001b[38;5;124m\"\u001b[39m\u001b[38;5;124mAuthor\u001b[39m\u001b[38;5;124m\"\u001b[39m:\u001b[38;5;124m'\u001b[39m\u001b[38;5;124mJohnny Ryan\u001b[39m\u001b[38;5;124m'\u001b[39m, \n\u001b[1;32m     57\u001b[0m     \u001b[38;5;124m\"\u001b[39m\u001b[38;5;124mEmail\u001b[39m\u001b[38;5;124m\"\u001b[39m:\u001b[38;5;124m'\u001b[39m\u001b[38;5;124mjryan4@uoregon.edu\u001b[39m\u001b[38;5;124m'\u001b[39m\n\u001b[1;32m     58\u001b[0m },\n\u001b[1;32m     59\u001b[0m )\n\u001b[1;32m     61\u001b[0m \u001b[38;5;66;03m# Save\u001b[39;00m\n\u001b[1;32m     62\u001b[0m ds_data\u001b[38;5;241m.\u001b[39mto_netcdf(path \u001b[38;5;241m+\u001b[39m \u001b[38;5;124m'\u001b[39m\u001b[38;5;124mdata/merra-swd/swd_\u001b[39m\u001b[38;5;124m'\u001b[39m \u001b[38;5;241m+\u001b[39m \u001b[38;5;28mstr\u001b[39m(year) \u001b[38;5;241m+\u001b[39m \u001b[38;5;124m'\u001b[39m\u001b[38;5;124m.nc\u001b[39m\u001b[38;5;124m'\u001b[39m)\n",
      "\u001b[0;31mNameError\u001b[0m: name 'swd' is not defined"
     ]
    }
   ],
   "source": [
    "%%capture\n",
    "# Loop over every link, resample to daily, and save as NetCDF\n",
    "for year in years:\n",
    "    \n",
    "    if os.path.exists(path + 'data/merra-swd/swd_' + str(year) + '.nc'):\n",
    "        print(f'Skipping...{str(year)}')\n",
    "    else:\n",
    "        print(f'Processing...{str(year)}')\n",
    "\n",
    "        # Make a new DataFrame\n",
    "        link_year = links_summer[links_summer['year'] == str(year)]\n",
    "\n",
    "        t = []\n",
    "        swd_allsky = []\n",
    "        swd_clrsky = []\n",
    "        for j in range(len(link_year)):\n",
    "\n",
    "            # Index link\n",
    "            link = '\"' + str(link_year.iloc[j].values[0]) + '\"'\n",
    "\n",
    "            # Download MERRA2 using WGET\n",
    "            !wget --load-cookies ~/.urs_cookies --save-cookies ~/.urs_cookies --auth-no-challenge=on --keep-session-cookies --no-check-certificate --content-disposition $link --directory-prefix=temp-files -nd\n",
    "\n",
    "            # Import temporary file\n",
    "            merra = xr.open_dataset(sorted(glob.glob(path + 'repo/temp-files/*.nc'))[0])\n",
    "            \n",
    "            # Clean up temporary files\n",
    "            files = glob.glob(path + 'repo/temp-files/*.nc')\n",
    "            for f in files:\n",
    "                os.remove(f)\n",
    "\n",
    "            # Calculate daily mean\n",
    "            swd_resample = np.mean(merra['SWGDN'], axis=0).values\n",
    "            clrsky_resample = np.mean(merra['SWGDNCLR'], axis=0).values\n",
    "\n",
    "            # Append to list\n",
    "            swd_allsky.append(swd_resample)\n",
    "            swd_clrsky.append(clrsky_resample)\n",
    "            t.append(merra['time'].values[0].astype('datetime64[D]'))\n",
    "\n",
    "        # Save as NetCDF\n",
    "        ds_data = xr.Dataset(\n",
    "        data_vars={\n",
    "            \"swd_allsky\": ((\"time\", \"lat\", \"lon\"), np.array(swd_allsky).astype('float32')),\n",
    "            \"swd_clrsky\": ((\"time\", \"lat\", \"lon\"), np.array(swd_clrsky).astype('float32')),\n",
    "        },\n",
    "\n",
    "        coords={\n",
    "            \"time\": pd.DatetimeIndex(np.array(t), freq='D'),\n",
    "            \"longitude\": (('lon',), merra['lon'].values),\n",
    "            \"latitude\": (('lat',), merra['lat'].values),    \n",
    "        },\n",
    "\n",
    "        attrs={\n",
    "            \"Produced\": datetime.now().strftime(\"%Y-%m-%d %H:%M:%S\"),\n",
    "            \"Units\": 'Wm-2',\n",
    "            \"Author\":'Johnny Ryan', \n",
    "            \"Email\":'jryan4@uoregon.edu'\n",
    "        },\n",
    "        )\n",
    "\n",
    "        # Save\n",
    "        ds_data.to_netcdf(path + 'data/merra-swd/swd_' + str(year) + '.nc')\n",
    "        "
   ]
  },
  {
   "cell_type": "code",
   "execution_count": null,
   "id": "2cfa543e",
   "metadata": {},
   "outputs": [],
   "source": []
  }
 ],
 "metadata": {
  "kernelspec": {
   "display_name": "Python 3 (ipykernel)",
   "language": "python",
   "name": "python3"
  },
  "language_info": {
   "codemirror_mode": {
    "name": "ipython",
    "version": 3
   },
   "file_extension": ".py",
   "mimetype": "text/x-python",
   "name": "python",
   "nbconvert_exporter": "python",
   "pygments_lexer": "ipython3",
   "version": "3.11.2"
  },
  "vscode": {
   "interpreter": {
    "hash": "e0eb5a6df1d7c6bae117cfee1babba0e4754d93c015e52cba518523ef19a3034"
   }
  }
 },
 "nbformat": 4,
 "nbformat_minor": 5
}
